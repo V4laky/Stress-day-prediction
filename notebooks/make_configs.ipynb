{
 "cells": [
  {
   "cell_type": "code",
   "execution_count": 1,
   "id": "2f84dd1f",
   "metadata": {},
   "outputs": [],
   "source": [
    "import yaml\n",
    "from pathlib import Path"
   ]
  },
  {
   "cell_type": "code",
   "execution_count": 9,
   "id": "3befa40b",
   "metadata": {},
   "outputs": [],
   "source": [
    "project_root = Path().resolve().parent"
   ]
  },
  {
   "cell_type": "code",
   "execution_count": 25,
   "id": "4a148efc",
   "metadata": {},
   "outputs": [],
   "source": [
    "\n",
    "BASE_CONFIG = {\n",
    "    \"data\": {\n",
    "        \"ticker\": \"^GSPC\",\n",
    "        \"start\": \"2010-01-01\",\n",
    "        \"end\": \"2023-01-01\",\n",
    "        \"split_date\": \"2019-01-01\"\n",
    "    },\n",
    "    \"training\": {\n",
    "        \"model\": \"rf\",\n",
    "        \"n_optuna_trials\": 20,\n",
    "        \"top_n_models\": 3,\n",
    "        \"early_stopping\": None\n",
    "    },\n",
    "    \"evaluation\": {\n",
    "        \"eval_tickers\": [\"^GSPC\", \"^IXIC\", \"^GDAXI\"],\n",
    "        \"pdf_report_name\": None\n",
    "    }\n",
    "}\n"
   ]
  },
  {
   "cell_type": "code",
   "execution_count": 26,
   "id": "2e30e29e",
   "metadata": {},
   "outputs": [],
   "source": [
    "def make_configs(feature_dict, output_dir=\"configs_auto\"):\n",
    "    Path(output_dir).mkdir(exist_ok=True)\n",
    "    for category, subcats in feature_dict.items():\n",
    "        for subcat, features in subcats.items():\n",
    "            config = BASE_CONFIG.copy()\n",
    "            config[\"features\"] = features\n",
    "            config[\"evaluation\"][\"model_names\"] = [f\"rf_trial_{i}\" for i in range(1, 4)]\n",
    "            config[\"evaluation\"][\"pdf_report_name\"] = f\"{category}_{subcat}_report.pdf\"\n",
    "            filename = f\"{category}_{subcat}.yaml\"\n",
    "            with open(Path(output_dir)/filename, \"w\") as f:\n",
    "                yaml.dump(config, f)\n",
    "    print(f\"Configs generated in {output_dir}\")"
   ]
  },
  {
   "cell_type": "code",
   "execution_count": 33,
   "id": "58627770",
   "metadata": {},
   "outputs": [],
   "source": [
    "with open(project_root / 'features.yaml', \"r\") as f:\n",
    "    features = yaml.safe_load(f)"
   ]
  },
  {
   "cell_type": "code",
   "execution_count": 34,
   "id": "55cdf734",
   "metadata": {},
   "outputs": [
    {
     "data": {
      "text/plain": [
       "['log_returns', 'Stress']"
      ]
     },
     "execution_count": 34,
     "metadata": {},
     "output_type": "execute_result"
    }
   ],
   "source": [
    "features.pop('core_price_features')"
   ]
  },
  {
   "cell_type": "code",
   "execution_count": 35,
   "id": "1512e1e6",
   "metadata": {},
   "outputs": [
    {
     "name": "stdout",
     "output_type": "stream",
     "text": [
      "Configs generated in C:\\Users\\lovas\\Desktop\\Market_risk_prediction\\configs\n"
     ]
    }
   ],
   "source": [
    "make_configs(features, output_dir=project_root / 'configs')"
   ]
  }
 ],
 "metadata": {
  "kernelspec": {
   "display_name": "market_risk_venv (3.11.0)",
   "language": "python",
   "name": "python3"
  },
  "language_info": {
   "codemirror_mode": {
    "name": "ipython",
    "version": 3
   },
   "file_extension": ".py",
   "mimetype": "text/x-python",
   "name": "python",
   "nbconvert_exporter": "python",
   "pygments_lexer": "ipython3",
   "version": "3.11.0"
  }
 },
 "nbformat": 4,
 "nbformat_minor": 5
}
