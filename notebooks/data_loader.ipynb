{
 "cells": [
  {
   "cell_type": "code",
   "execution_count": 45,
   "id": "aa947cf7",
   "metadata": {},
   "outputs": [
    {
     "data": {
      "text/plain": [
       "<module 'src.data_processing' from 'C:\\\\Users\\\\lovas\\\\Desktop\\\\Market_risk_prediction\\\\src\\\\data_processing.py'>"
      ]
     },
     "execution_count": 45,
     "metadata": {},
     "output_type": "execute_result"
    }
   ],
   "source": [
    "import importlib\n",
    "import src.data_processing\n",
    "\n",
    "importlib.reload(src.data_processing)"
   ]
  },
  {
   "cell_type": "code",
   "execution_count": 46,
   "id": "9d82ea88",
   "metadata": {},
   "outputs": [],
   "source": [
    "import yfinance as yf\n",
    "import pandas as pd\n",
    "import numpy as np\n",
    "\n",
    "import sys\n",
    "from pathlib import Path\n",
    "\n",
    "# Add project root to sys.path\n",
    "project_root = Path().resolve().parent # assumes notebook is in a subdirectory of the project root\n",
    "sys.path.append(str(project_root))\n",
    "\n",
    "from src.data_processing import get_or_download_index, process_data"
   ]
  },
  {
   "cell_type": "code",
   "execution_count": 87,
   "id": "27cca8d7",
   "metadata": {},
   "outputs": [
    {
     "name": "stderr",
     "output_type": "stream",
     "text": [
      "C:\\Users\\lovas\\AppData\\Local\\Temp\\ipykernel_18584\\2928929219.py:2: FutureWarning: YF.download() has changed argument auto_adjust default to True\n",
      "  data = yf.download(symbol, start=\"2010-01-01\", end=\"2023-01-01\")\n",
      "[*********************100%***********************]  1 of 1 completed\n",
      "C:\\Users\\lovas\\AppData\\Local\\Temp\\ipykernel_18584\\2928929219.py:2: FutureWarning: YF.download() has changed argument auto_adjust default to True\n",
      "  data = yf.download(symbol, start=\"2010-01-01\", end=\"2023-01-01\")\n",
      "[*********************100%***********************]  1 of 1 completed"
     ]
    },
    {
     "name": "stdout",
     "output_type": "stream",
     "text": [
      "No local data found for ^GSPC, downloading...\n",
      "Saved data to C:\\Users\\lovas\\Desktop\\Market_risk_prediction\\data\\raw\\^GSPC.csv\n",
      "No local data found for ^IXIC, downloading...\n",
      "Saved data to C:\\Users\\lovas\\Desktop\\Market_risk_prediction\\data\\raw\\^IXIC.csv\n",
      "No local data found for ^GDAXI, downloading...\n"
     ]
    },
    {
     "name": "stderr",
     "output_type": "stream",
     "text": [
      "\n",
      "C:\\Users\\lovas\\AppData\\Local\\Temp\\ipykernel_18584\\2928929219.py:2: FutureWarning: YF.download() has changed argument auto_adjust default to True\n",
      "  data = yf.download(symbol, start=\"2010-01-01\", end=\"2023-01-01\")\n",
      "[*********************100%***********************]  1 of 1 completed\n",
      "C:\\Users\\lovas\\AppData\\Local\\Temp\\ipykernel_18584\\2928929219.py:2: FutureWarning: YF.download() has changed argument auto_adjust default to True\n",
      "  data = yf.download(symbol, start=\"2010-01-01\", end=\"2023-01-01\")\n",
      "[*********************100%***********************]  1 of 1 completed\n"
     ]
    },
    {
     "name": "stdout",
     "output_type": "stream",
     "text": [
      "Saved data to C:\\Users\\lovas\\Desktop\\Market_risk_prediction\\data\\raw\\^GDAXI.csv\n",
      "No local data found for ^VIX, downloading...\n",
      "Saved data to C:\\Users\\lovas\\Desktop\\Market_risk_prediction\\data\\raw\\^VIX.csv\n"
     ]
    }
   ],
   "source": [
    "def download_index(symbol):\n",
    "    data = yf.download(symbol, start=\"2010-01-01\", end=\"2023-01-01\")\n",
    "    data.columns = data.columns.get_level_values(0)\n",
    "    return data\n",
    "\n",
    "sp500 = get_or_download_index(\"^GSPC\", download_index, data_dir=project_root / \"data/raw\")\n",
    "nasdaq = get_or_download_index(\"^IXIC\", download_index, data_dir=project_root / \"data/raw\")\n",
    "dax = get_or_download_index(\"^GDAXI\", download_index, data_dir=project_root / \"data/raw\")\n",
    "vix = get_or_download_index(\"^VIX\", download_index, data_dir=project_root / \"data/raw\")"
   ]
  },
  {
   "cell_type": "code",
   "execution_count": 51,
   "id": "bfc81e10",
   "metadata": {},
   "outputs": [],
   "source": [
    "sp500 = pd.read_csv(project_root / 'data/raw/^GSPC.csv')\n",
    "vix = pd.read_csv(project_root / 'data/raw/^VIX.csv')"
   ]
  },
  {
   "cell_type": "code",
   "execution_count": 52,
   "id": "43d1e8ac",
   "metadata": {},
   "outputs": [
    {
     "name": "stdout",
     "output_type": "stream",
     "text": [
      "please\n"
     ]
    }
   ],
   "source": [
    "sp500 = process_data(sp500['Close'], vix_series=vix['Close'])\n",
    "#nasdaq = process_data(nasdaq['Close'], vix_series=vix['Close'])\n",
    "#dax = process_data(dax['Close'], vix_series=vix['Close'])"
   ]
  },
  {
   "cell_type": "code",
   "execution_count": 53,
   "id": "15e0afda",
   "metadata": {},
   "outputs": [],
   "source": [
    "cols = sp500.columns"
   ]
  },
  {
   "cell_type": "code",
   "execution_count": 54,
   "id": "ded1111d",
   "metadata": {},
   "outputs": [
    {
     "data": {
      "text/plain": [
       "79      306.100440\n",
       "80      262.964128\n",
       "81      195.080813\n",
       "82      202.100541\n",
       "83      195.833500\n",
       "           ...    \n",
       "3267    111.516526\n",
       "3268    111.928405\n",
       "3269    113.238388\n",
       "3270    106.891468\n",
       "3271     96.030860\n",
       "Name: 20_day_rolling_vol_of_VIX/vol40, Length: 3193, dtype: float64"
      ]
     },
     "execution_count": 54,
     "metadata": {},
     "output_type": "execute_result"
    }
   ],
   "source": [
    "sp500['20_day_rolling_vol_of_VIX/vol40']"
   ]
  },
  {
   "cell_type": "code",
   "execution_count": 96,
   "id": "23a9db80",
   "metadata": {},
   "outputs": [],
   "source": [
    "sp500.to_csv(project_root / \"data/processed/sp500_processed.csv\")\n",
    "nasdaq.to_csv(project_root / \"data/processed/nasdaq_processed.csv\")\n",
    "dax.to_csv(project_root / \"data/processed/dax_processed.csv\")"
   ]
  }
 ],
 "metadata": {
  "kernelspec": {
   "display_name": "market_risk_venv (3.11.0)",
   "language": "python",
   "name": "python3"
  },
  "language_info": {
   "codemirror_mode": {
    "name": "ipython",
    "version": 3
   },
   "file_extension": ".py",
   "mimetype": "text/x-python",
   "name": "python",
   "nbconvert_exporter": "python",
   "pygments_lexer": "ipython3",
   "version": "3.11.0"
  }
 },
 "nbformat": 4,
 "nbformat_minor": 5
}
